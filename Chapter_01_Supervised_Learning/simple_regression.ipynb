{
  "nbformat": 4,
  "nbformat_minor": 0,
  "metadata": {
    "colab": {
      "provenance": []
    },
    "kernelspec": {
      "name": "python3",
      "display_name": "Python 3"
    },
    "language_info": {
      "name": "python"
    }
  },
  "cells": [
    {
      "cell_type": "code",
      "execution_count": 13,
      "metadata": {
        "colab": {
          "base_uri": "https://localhost:8080/"
        },
        "id": "v5y9XIuxqGH2",
        "outputId": "7e0a33ce-6fd5-4a1a-9663-aa679d01269b"
      },
      "outputs": [
        {
          "output_type": "stream",
          "name": "stdout",
          "text": [
            "[0, 5, 3, -1, 2, 6, 10] [-2, 14, 6, -5.5, 3.5, 18, 28]\n"
          ]
        }
      ],
      "source": [
        "x = [0, 5, 3, -1, 2, 6, 10]\n",
        "y = [-2, 14, 6, -5.5, 3.5, 18, 28]\n",
        "print(x, y)"
      ]
    },
    {
      "cell_type": "code",
      "source": [
        "X, Y, XiYi, Xi2 = 0, 0, 0, 0\n",
        "n = len(x)\n",
        "for i in range(n):\n",
        "  X = X + x[i]\n",
        "  Y = Y + y[i]\n",
        "  XiYi = XiYi + x[i] * y[i]\n",
        "  Xi2 = Xi2 + x[i] ** 2\n",
        "print(n, X, Y, XiYi, Xi2)"
      ],
      "metadata": {
        "colab": {
          "base_uri": "https://localhost:8080/"
        },
        "id": "xZ1iK289qybD",
        "outputId": "6811326c-4b8c-48d4-da12-804594590264"
      },
      "execution_count": 14,
      "outputs": [
        {
          "output_type": "stream",
          "name": "stdout",
          "text": [
            "7 25 62.0 488.5 175\n"
          ]
        }
      ]
    },
    {
      "cell_type": "code",
      "source": [
        "w1 = (n * XiYi - X * Y) / (n * Xi2 - X**2)\n",
        "print(w1)"
      ],
      "metadata": {
        "colab": {
          "base_uri": "https://localhost:8080/"
        },
        "id": "MkfYFG9Eu5MN",
        "outputId": "08094c77-ab9e-45a1-e051-ee2a15a8314f"
      },
      "execution_count": 15,
      "outputs": [
        {
          "output_type": "stream",
          "name": "stdout",
          "text": [
            "3.1158333333333332\n"
          ]
        }
      ]
    },
    {
      "cell_type": "code",
      "source": [
        "w0 = (Y-w1*X)/n\n",
        "print(w0)"
      ],
      "metadata": {
        "colab": {
          "base_uri": "https://localhost:8080/"
        },
        "id": "ExT0r3UIvXHg",
        "outputId": "32773251-bed4-4783-c69f-9376ec827113"
      },
      "execution_count": 16,
      "outputs": [
        {
          "output_type": "stream",
          "name": "stdout",
          "text": [
            "-2.2708333333333326\n"
          ]
        }
      ]
    }
  ]
}